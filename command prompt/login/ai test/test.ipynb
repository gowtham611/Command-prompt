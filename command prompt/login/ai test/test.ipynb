{
 "cells": [
  {
   "cell_type": "code",
   "execution_count": 12,
   "metadata": {},
   "outputs": [],
   "source": [
    "from pprint import pprint\n",
    "from Questgen import main"
   ]
  },
  {
   "cell_type": "code",
   "execution_count": 13,
   "metadata": {},
   "outputs": [],
   "source": [
    "qe= main.BoolQGen()"
   ]
  },
  {
   "cell_type": "code",
   "execution_count": 10,
   "metadata": {},
   "outputs": [],
   "source": [
    "payload = {\n",
    "            \"input_text\": \"Manchester is a city and metropolitan borough located in the county of Greater Manchester in England. It is situated in the northwest part of the country and has a population of around 550,000 people, making it the fifth-largest city in the United Kingdom.\"\n",
    "        }"
   ]
  },
  {
   "cell_type": "code",
   "execution_count": 15,
   "metadata": {},
   "outputs": [
    {
     "name": "stdout",
     "output_type": "stream",
     "text": [
      "{'Boolean Questions': ['Is manchester the fifth largest city in the uk?',\n",
      "                       'Is manchester the fifth largest city in england?',\n",
      "                       'Is manchester the fifth biggest city in the uk?'],\n",
      " 'Count': 4,\n",
      " 'Text': 'Manchester is a city and metropolitan borough located in the county '\n",
      "         'of Greater Manchester in England. It is situated in the northwest '\n",
      "         'part of the country and has a population of around 550,000 people, '\n",
      "         'making it the fifth-largest city in the United Kingdom.'}\n"
     ]
    }
   ],
   "source": [
    "output = qe.predict_boolq(payload)\n",
    "pprint (output)"
   ]
  }
 ],
 "metadata": {
  "kernelspec": {
   "display_name": "Python 3 (ipykernel)",
   "language": "python",
   "name": "python3"
  },
  "language_info": {
   "codemirror_mode": {
    "name": "ipython",
    "version": 3
   },
   "file_extension": ".py",
   "mimetype": "text/x-python",
   "name": "python",
   "nbconvert_exporter": "python",
   "pygments_lexer": "ipython3",
   "version": "3.9.7"
  }
 },
 "nbformat": 4,
 "nbformat_minor": 4
}
